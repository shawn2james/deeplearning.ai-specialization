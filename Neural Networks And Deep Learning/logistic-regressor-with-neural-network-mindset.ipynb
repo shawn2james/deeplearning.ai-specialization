{
 "cells": [
  {
   "cell_type": "markdown",
   "metadata": {},
   "source": [
    "# Importing Necessary Modules"
   ]
  },
  {
   "cell_type": "code",
   "execution_count": 1,
   "metadata": {},
   "outputs": [],
   "source": [
    "import numpy as np\n",
    "import h5py\n",
    "import matplotlib.pyplot as plt\n",
    "from PIL import Image\n",
    "from logistic_regression import LogisticRegressor\n",
    "from sklearn.metrics import accuracy_score\n",
    "from joblib import dump, load"
   ]
  },
  {
   "cell_type": "markdown",
   "metadata": {},
   "source": [
    "# Data Preperation (Training and Test datasets)"
   ]
  },
  {
   "cell_type": "code",
   "execution_count": 2,
   "metadata": {},
   "outputs": [],
   "source": [
    "# Reading in the .h5 files containing the data\n",
    "train_file = h5py.File('data/train.h5', 'r')\n",
    "test_file = h5py.File('data/test.h5', 'r')"
   ]
  },
  {
   "cell_type": "code",
   "execution_count": 3,
   "metadata": {},
   "outputs": [
    {
     "name": "stdout",
     "output_type": "stream",
     "text": [
      "['list_classes', 'train_set_x', 'train_set_y']\n",
      "['list_classes', 'test_set_x', 'test_set_y']\n"
     ]
    }
   ],
   "source": [
    "# printing the keys in the dictionaries extracted from the .h5 files\n",
    "print(list(train_file.keys()))\n",
    "print(list(test_file.keys()))"
   ]
  },
  {
   "cell_type": "code",
   "execution_count": 4,
   "metadata": {},
   "outputs": [],
   "source": [
    "# CREATING NUMPY ARRAYS CONTAINING THE VALUES FROM THE DICTIONARIES\n",
    "# Training set\n",
    "X_train_orig = np.array([image for image in train_file['train_set_x']])\n",
    "y_train = np.array([class_ for class_ in train_file['train_set_y']]) \n",
    "# Testing set\n",
    "X_test_orig = np.array(test_file['test_set_x'])\n",
    "y_test = np.array(test_file['test_set_y']).reshape((50, 1))"
   ]
  },
  {
   "cell_type": "code",
   "execution_count": 5,
   "metadata": {},
   "outputs": [
    {
     "data": {
      "text/plain": [
       "((209, 64, 64, 3), (209,))"
      ]
     },
     "execution_count": 5,
     "metadata": {},
     "output_type": "execute_result"
    }
   ],
   "source": [
    "X_train_orig.shape, y_train.shape"
   ]
  },
  {
   "cell_type": "code",
   "execution_count": 6,
   "metadata": {},
   "outputs": [
    {
     "data": {
      "text/plain": [
       "((50, 64, 64, 3), (50, 1))"
      ]
     },
     "execution_count": 6,
     "metadata": {},
     "output_type": "execute_result"
    }
   ],
   "source": [
    "X_test_orig.shape, y_test.shape"
   ]
  },
  {
   "cell_type": "markdown",
   "metadata": {},
   "source": [
    "This is an example image from the training set"
   ]
  },
  {
   "cell_type": "code",
   "execution_count": 7,
   "metadata": {},
   "outputs": [
    {
     "data": {
      "image/png": "[encoded data removed]",
      "text/plain": [
       "<PIL.Image.Image image mode=RGB size=64x64 at 0x1E838F50D00>"
      ]
     },
     "execution_count": 7,
     "metadata": {},
     "output_type": "execute_result"
    }
   ],
   "source": [
    "Image.fromarray(X_train_orig[200], 'RGB')"
   ]
  },
  {
   "cell_type": "markdown",
   "metadata": {},
   "source": [
    "There are 209 training examples (rows) , each of them 64x64 images with 3 color channels."
   ]
  },
  {
   "cell_type": "markdown",
   "metadata": {},
   "source": [
    "## Shaping the data"
   ]
  },
  {
   "cell_type": "markdown",
   "metadata": {},
   "source": [
    "We need the data to be of the shape (12288, 209) i.e. each image array should be flattened (converted into single dimension array) and they should be stacked as columns."
   ]
  },
  {
   "cell_type": "code",
   "execution_count": 8,
   "metadata": {},
   "outputs": [],
   "source": [
    "# FLATTENING EACH OF THE IMAGE ARRAYS\n",
    "# training set\n",
    "X_train = X_train_orig.reshape((X_train_orig.shape[1]*X_train_orig.shape[2]*3, X_train_orig.shape[0]))\n",
    "y_train = y_train.reshape((209, 1))\n",
    "# test set\n",
    "X_test = X_test_orig.reshape((X_test_orig.shape[1]*X_test_orig.shape[2]*X_test_orig.shape[3], X_test_orig.shape[0]))"
   ]
  },
  {
   "cell_type": "code",
   "execution_count": 9,
   "metadata": {},
   "outputs": [
    {
     "data": {
      "text/plain": [
       "((12288, 209), (12288, 50))"
      ]
     },
     "execution_count": 9,
     "metadata": {},
     "output_type": "execute_result"
    }
   ],
   "source": [
    "X_train.shape, X_test.shape"
   ]
  },
  {
   "cell_type": "code",
   "execution_count": 10,
   "metadata": {},
   "outputs": [
    {
     "data": {
      "text/plain": [
       "((209, 1), (50, 1))"
      ]
     },
     "execution_count": 10,
     "metadata": {},
     "output_type": "execute_result"
    }
   ],
   "source": [
    "y_train.shape, y_test.shape"
   ]
  },
  {
   "cell_type": "markdown",
   "metadata": {},
   "source": [
    "# Logistic Regression With a Neural Network Mindset"
   ]
  },
  {
   "cell_type": "markdown",
   "metadata": {},
   "source": [
    "We have to normalize the training set and test set for the model to be able to learn better. For that, the arrays are divided by 255 which is the maximum color value that a pixel can get."
   ]
  },
  {
   "cell_type": "code",
   "execution_count": 11,
   "metadata": {},
   "outputs": [],
   "source": [
    "X_train = X_train / 255\n",
    "X_test = X_test / 255"
   ]
  },
  {
   "cell_type": "markdown",
   "metadata": {},
   "source": [
    "# Creating and Training the model"
   ]
  },
  {
   "cell_type": "code",
   "execution_count": 12,
   "metadata": {},
   "outputs": [
    {
     "name": "stdout",
     "output_type": "stream",
     "text": [
      "Cost Function at iteration 0 = 49.90991349400296\n",
      "Cost Function at iteration 100 = 40.68314226870631\n",
      "Cost Function at iteration 200 = 44.91905448570984\n",
      "Cost Function at iteration 300 = 49.01556734117475\n",
      "Cost Function at iteration 400 = 52.81654773762791\n",
      "Cost Function at iteration 500 = 56.35008001800301\n",
      "Cost Function at iteration 600 = 59.76948212885117\n",
      "Cost Function at iteration 700 = 63.23556142542176\n",
      "Cost Function at iteration 800 = 66.89445964931879\n",
      "Cost Function at iteration 900 = 70.89905285604577\n",
      "Cost Function at iteration 1000 = 75.45178604874175\n",
      "Cost Function at iteration 1100 = 80.87801147646859\n",
      "Cost Function at iteration 1200 = 87.70279349325467\n",
      "Cost Function at iteration 1300 = 95.90248243062499\n",
      "Cost Function at iteration 1400 = 101.49930848717197\n",
      "Cost Function at iteration 1500 = 103.08139510601559\n",
      "Cost Function at iteration 1600 = 104.0019370512395\n",
      "Cost Function at iteration 1700 = 104.91087581190061\n",
      "Cost Function at iteration 1800 = 105.81708603631886\n",
      "Cost Function at iteration 1900 = 106.71658751380805\n"
     ]
    }
   ],
   "source": [
    "model = LogisticRegressor(X_train, y_train, 0.005, 2000)"
   ]
  },
  {
   "cell_type": "markdown",
   "metadata": {},
   "source": [
    "# Testing the model"
   ]
  },
  {
   "cell_type": "code",
   "execution_count": 13,
   "metadata": {},
   "outputs": [
    {
     "data": {
      "text/plain": [
       "array([0.1285541 , 0.0828577 , 0.51390991, 0.08177344, 0.10221405])"
      ]
     },
     "execution_count": 13,
     "metadata": {},
     "output_type": "execute_result"
    }
   ],
   "source": [
    "model.predict_proba(X_train)[:5]"
   ]
  },
  {
   "cell_type": "code",
   "execution_count": 14,
   "metadata": {},
   "outputs": [
    {
     "name": "stdout",
     "output_type": "stream",
     "text": [
      "Prediction    Actual Value\n",
      "0                   0\n",
      "0                   0\n",
      "1                   1\n",
      "0                   0\n",
      "0                   0\n",
      "0                   0\n",
      "0                   0\n",
      "0                   1\n",
      "1                   0\n",
      "0                   0\n",
      "0                   0\n",
      "1                   1\n",
      "0                   0\n",
      "1                   1\n",
      "1                   1\n",
      "0                   0\n",
      "0                   0\n",
      "0                   0\n",
      "0                   0\n",
      "0                   1\n",
      "0                   0\n",
      "0                   0\n",
      "0                   0\n",
      "0                   0\n",
      "1                   1\n",
      "1                   1\n",
      "0                   0\n",
      "1                   1\n",
      "0                   0\n",
      "0                   1\n"
     ]
    }
   ],
   "source": [
    "train_preds = model.predict(X_train)\n",
    "print(\"Prediction    Actual Value\")\n",
    "for pred_value, actual_value in zip(train_preds[:30], y_train[:30]):\n",
    "    print(pred_value, \"                 \", actual_value[0])"
   ]
  },
  {
   "cell_type": "code",
   "execution_count": 15,
   "metadata": {},
   "outputs": [
    {
     "name": "stdout",
     "output_type": "stream",
     "text": [
      "Accuracy on training set: 91.39%\n"
     ]
    }
   ],
   "source": [
    "print(f\"Accuracy on training set: {model.accuracy(y_train, train_preds)*100:.2f}%\")"
   ]
  },
  {
   "cell_type": "code",
   "execution_count": 16,
   "metadata": {},
   "outputs": [
    {
     "data": {
      "text/plain": [
       "array([0.29525734, 0.26658459, 0.24319337, 0.3172707 , 0.30845875])"
      ]
     },
     "execution_count": 16,
     "metadata": {},
     "output_type": "execute_result"
    }
   ],
   "source": [
    "model.predict_proba(X_test)[:5]"
   ]
  },
  {
   "cell_type": "code",
   "execution_count": 17,
   "metadata": {},
   "outputs": [
    {
     "name": "stdout",
     "output_type": "stream",
     "text": [
      "Prediction    Actual Value\n",
      "0                   1\n",
      "0                   1\n",
      "0                   1\n",
      "0                   1\n",
      "0                   1\n",
      "0                   0\n",
      "0                   1\n",
      "0                   1\n",
      "0                   1\n",
      "0                   1\n",
      "0                   1\n",
      "0                   1\n",
      "0                   1\n",
      "0                   0\n",
      "0                   0\n",
      "0                   1\n",
      "0                   0\n",
      "0                   1\n",
      "0                   1\n",
      "0                   1\n",
      "0                   1\n",
      "0                   0\n",
      "0                   0\n",
      "0                   1\n",
      "0                   1\n",
      "0                   1\n",
      "0                   1\n",
      "0                   0\n",
      "0                   1\n",
      "0                   0\n"
     ]
    }
   ],
   "source": [
    "test_preds = model.predict(X_test)\n",
    "print(\"Prediction    Actual Value\")\n",
    "for pred_value, actual_value in zip(test_preds[:30], y_test[:30]):\n",
    "    print(pred_value, \"                 \", actual_value[0])"
   ]
  },
  {
   "cell_type": "code",
   "execution_count": 18,
   "metadata": {},
   "outputs": [
    {
     "name": "stdout",
     "output_type": "stream",
     "text": [
      "Accuracy on test set: 34.00%\n"
     ]
    }
   ],
   "source": [
    "print(f\"Accuracy on test set: {model.accuracy(y_test, test_preds)*100:.2f}%\")"
   ]
  },
  {
   "cell_type": "markdown",
   "metadata": {},
   "source": [
    "# Saving the model"
   ]
  },
  {
   "cell_type": "code",
   "execution_count": 19,
   "metadata": {},
   "outputs": [
    {
     "data": {
      "text/plain": [
       "['logistic-regressor.joblib']"
      ]
     },
     "execution_count": 19,
     "metadata": {},
     "output_type": "execute_result"
    }
   ],
   "source": [
    "dump(value=model, filename='logistic-regressor.joblib')"
   ]
  },
  {
   "cell_type": "code",
   "execution_count": 20,
   "metadata": {},
   "outputs": [
    {
     "data": {
      "text/plain": [
       "0.34"
      ]
     },
     "execution_count": 20,
     "metadata": {},
     "output_type": "execute_result"
    }
   ],
   "source": [
    "saved_model = load('logistic-regressor.joblib')\n",
    "saved_model.accuracy(test_preds, y_test)"
   ]
  }
 ],
 "metadata": {
  "kernelspec": {
   "display_name": "Python 3",
   "language": "python",
   "name": "python3"
  },
  "language_info": {
   "codemirror_mode": {
    "name": "ipython",
    "version": 3
   },
   "file_extension": ".py",
   "mimetype": "text/x-python",
   "name": "python",
   "nbconvert_exporter": "python",
   "pygments_lexer": "ipython3",
   "version": "3.8.3"
  }
 },
 "nbformat": 4,
 "nbformat_minor": 4
}
